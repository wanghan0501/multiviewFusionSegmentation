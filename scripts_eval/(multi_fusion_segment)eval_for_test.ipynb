{
 "cells": [
  {
   "cell_type": "code",
   "execution_count": null,
   "metadata": {},
   "outputs": [],
   "source": [
    "import sys\n",
    "\n",
    "sys.path.append('..')"
   ]
  },
  {
   "cell_type": "code",
   "execution_count": null,
   "metadata": {
    "ExecuteTime": {
     "end_time": "2019-06-13T12:34:38.365384Z",
     "start_time": "2019-06-13T12:34:36.958741Z"
    }
   },
   "outputs": [],
   "source": [
    "import os\n",
    "\n",
    "import cv2\n",
    "import matplotlib as mpl\n",
    "import matplotlib.pyplot as plt\n",
    "import numpy as np\n",
    "import pandas as pd\n",
    "import torch\n",
    "from torchvision.transforms import Compose\n",
    "from tqdm import tqdm\n",
    "\n",
    "import datasets.multi_segment_dataset as ms\n",
    "from datasets.transforms import multi_segment_transforms as MST\n",
    "from nets.seg2d.multiviewunet import MultiViewUNet, UNet\n",
    "\n",
    "%matplotlib inline"
   ]
  },
  {
   "cell_type": "code",
   "execution_count": null,
   "metadata": {
    "ExecuteTime": {
     "end_time": "2019-06-13T12:34:38.371513Z",
     "start_time": "2019-06-13T12:34:38.368258Z"
    }
   },
   "outputs": [],
   "source": [
    "device = 'cuda:1'"
   ]
  },
  {
   "cell_type": "code",
   "execution_count": null,
   "metadata": {
    "ExecuteTime": {
     "end_time": "2019-06-13T12:34:38.866760Z",
     "start_time": "2019-06-13T12:34:38.841268Z"
    },
    "scrolled": true
   },
   "outputs": [],
   "source": [
    "trans = Compose([\n",
    "    MST.FilterAndNormalizeByWL(250, 50),\n",
    "    MST.Arr2Image(),\n",
    "    MST.CenterCrop([288, 288]),\n",
    "    MST.ToTensor()\n",
    "])\n",
    "dataset = ms.MultiSegmentDataset(\n",
    "    data_root='/root/workspace/DeepRadiology/target_segmentation/',\n",
    "    sample_records=[\n",
    "        '../records/胶质恶性细胞瘤/new_paper/test_multi_front_records.csv'\n",
    "    ],\n",
    "    multi_fusion=True,\n",
    "    transforms=trans)\n",
    "\n",
    "segment_ckpt = torch.load(\n",
    "    '../ckpts/new_paper/multi_segment/resnet50_mean_try2/95.pth',\n",
    "    map_location=device)\n",
    "\n",
    "cfg = {\n",
    "    'data': {\n",
    "        'num_classes': 2,\n",
    "        'color_channels': 1,\n",
    "    },\n",
    "    'network': {\n",
    "        'backbone': 'resnet50',\n",
    "        'norm_type': 'batchnorm',\n",
    "        'multi_view_unet': {\n",
    "            'modality_num': 3,\n",
    "            'operator': 'mean',\n",
    "            'sum_weight': [0.9, 0.05, 0.05],\n",
    "            'dropout': 0.1,\n",
    "            'num_layers': 2\n",
    "        }\n",
    "    }\n",
    "}\n",
    "segment_net = MultiViewUNet(cfg)\n",
    "segment_net.load_state_dict(segment_ckpt)\n",
    "segment_net = segment_net.eval().to(device)"
   ]
  },
  {
   "cell_type": "code",
   "execution_count": null,
   "metadata": {
    "ExecuteTime": {
     "end_time": "2019-06-13T12:34:49.072775Z",
     "start_time": "2019-06-13T12:34:49.062080Z"
    }
   },
   "outputs": [],
   "source": [
    "def segment_volume(probs, labels, metric_idxs):\n",
    "    volumes = []\n",
    "    for metric_idx in metric_idxs:\n",
    "        mask_o = (probs == metric_idx)\n",
    "        mask_y = (labels == metric_idx)\n",
    "        inter = (mask_o * mask_y).sum()\n",
    "        union = mask_o.sum() + mask_y.sum()\n",
    "        v_y = mask_y.sum()\n",
    "        v_o = mask_o.sum()\n",
    "        volumes.append(np.array([union, inter, v_y, v_o]))\n",
    "    return np.array(volumes)\n",
    "\n",
    "\n",
    "def segment_metrics(volume):\n",
    "    front_classes = volume.shape[0]\n",
    "    metrics = []\n",
    "    for class_idx in range(front_classes):\n",
    "        union, inter, v_y, v_o = volume[class_idx, 0], volume[\n",
    "            class_idx, 1], volume[class_idx, 2], volume[class_idx, 3]\n",
    "        dice = 0 if union == 0 else float(2 * inter) / union\n",
    "        TPVF = 0 if v_y == 0 else float(inter) / v_y\n",
    "        PPV = 0 if v_o == 0 else float(inter) / v_o\n",
    "        metrics.append(np.array([dice, TPVF, PPV]))\n",
    "    return np.array(metrics)"
   ]
  },
  {
   "cell_type": "code",
   "execution_count": null,
   "metadata": {
    "ExecuteTime": {
     "end_time": "2019-06-13T12:39:18.515728Z",
     "start_time": "2019-06-13T12:34:49.075009Z"
    },
    "scrolled": true
   },
   "outputs": [],
   "source": [
    "dice_volume_meter = np.zeros([1, 4])\n",
    "with torch.no_grad():\n",
    "    for idx in range(len(dataset)):\n",
    "        sample = dataset.__getitem__(idx)\n",
    "        img = sample['image'].to(device)\n",
    "        mask = sample['label']\n",
    "        masked_contour_arr = np.ma.masked_where(mask == 0, mask)\n",
    "        mask = mask.to(device)\n",
    "        pred = np.zeros([288, 288], dtype='uint8')\n",
    "\n",
    "        logit = segment_net(img)\n",
    "        prob = torch.softmax(logit, dim=1)\n",
    "        pred = torch.argmax(prob[0], 0).data.cpu().numpy()\n",
    "        dice_volume = segment_volume(pred,\n",
    "                                     mask.cpu().numpy().astype('uint8'), [1])\n",
    "        dice_volume_meter += dice_volume\n",
    "\n",
    "        pred_contour_arr = np.ma.masked_where(pred == 0, pred)\n",
    "        img_arr = img.data.cpu().numpy()[0, 0]\n",
    "\n",
    "#         plt.figure(figsize=(9, 9))\n",
    "#         print(\"********** {} **********\".format(idx))\n",
    "#         plt.subplot(1, 3, 1)\n",
    "#         plt.imshow(img_arr, cmap='gray', interpolation='none')\n",
    "#         plt.subplot(1, 3, 2)\n",
    "#         plt.imshow(img_arr, cmap='gray', interpolation='none')\n",
    "#         plt.imshow(masked_contour_arr,\n",
    "#                    cmap='cool',\n",
    "#                    interpolation='none',\n",
    "#                    alpha=0.7)\n",
    "#         plt.subplot(1, 3, 3)\n",
    "#         plt.imshow(img_arr, cmap='gray', interpolation='none')\n",
    "#         plt.imshow(pred_contour_arr,\n",
    "#                    cmap='cool',\n",
    "#                    interpolation='none',\n",
    "#                    alpha=0.7)\n",
    "#         plt.show()\n",
    "#         print('/'.join(dataset.records.iloc[idx].base_ct_path.split('/')[-3:]))\n",
    "#         print(segment_metrics(dice_volume_meter))\n",
    "dice_metrics = segment_metrics(dice_volume_meter)\n",
    "dice_metrics"
   ]
  },
  {
   "cell_type": "code",
   "execution_count": null,
   "metadata": {},
   "outputs": [],
   "source": []
  }
 ],
 "metadata": {
  "kernelspec": {
   "display_name": "Python 3",
   "language": "python",
   "name": "python3"
  },
  "language_info": {
   "codemirror_mode": {
    "name": "ipython",
    "version": 3
   },
   "file_extension": ".py",
   "mimetype": "text/x-python",
   "name": "python",
   "nbconvert_exporter": "python",
   "pygments_lexer": "ipython3",
   "version": "3.8.6"
  }
 },
 "nbformat": 4,
 "nbformat_minor": 2
}
